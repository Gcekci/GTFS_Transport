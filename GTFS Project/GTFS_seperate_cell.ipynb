{
 "cells": [
  {
   "cell_type": "code",
   "execution_count": 323,
   "metadata": {},
   "outputs": [],
   "source": [
    "import pandas as pd\n",
    "from datetime import timedelta, datetime\n",
    "import datetime as dt\n",
    "import time\n",
    "from ipywidgets import HTML\n",
    "from ipyleaflet import Map, Marker, Polyline, Popup, basemaps, AwesomeIcon\n",
    "from IPython.display import display, clear_output\n"
   ]
  },
  {
   "cell_type": "code",
   "execution_count": 324,
   "metadata": {},
   "outputs": [],
   "source": [
    "# Load GTFS data\n",
    "data_path = r\"C:\\Users\\TULPAR\\JupyterLab Projects\\GTFS Project\\dataset\"\n",
    "stops = pd.read_csv(f\"{data_path}/stops.txt\")\n",
    "routes = pd.read_csv(f\"{data_path}/routes.txt\")\n",
    "trips = pd.read_csv(f\"{data_path}/trips.txt\")\n",
    "stop_times = pd.read_csv(f\"{data_path}/stop_times.txt\")\n",
    "calendar = pd.read_csv(f\"{data_path}/calendar.txt\")\n",
    "shapes = pd.read_csv(f\"{data_path}/shapes.txt\")\n"
   ]
  },
  {
   "cell_type": "code",
   "execution_count": 325,
   "metadata": {},
   "outputs": [],
   "source": [
    "# Function to convert the time of the data\n",
    "def convert_time(time_str):\n",
    "    try:\n",
    "        parts = time_str.split(':')\n",
    "        hours, minutes, seconds = int(parts[0]), int(parts[1]), int(parts[2])\n",
    "        if hours >= 24:\n",
    "            hours -= 24\n",
    "        return f\"{hours:02}:{minutes:02}:{seconds:02}\"\n",
    "    except ValueError as e:\n",
    "        print(f\"Error converting time: {time_str} - {e}\")\n",
    "        return None\n",
    "\n",
    "# Apply the conversion to arrival_time and departure_time\n",
    "stop_times['arrival_time'] = stop_times['arrival_time'].apply(convert_time)\n",
    "stop_times['departure_time'] = stop_times['departure_time'].apply(convert_time)\n",
    "stop_times = stop_times.dropna(subset=['arrival_time', 'departure_time'])\n"
   ]
  },
  {
   "cell_type": "code",
   "execution_count": 326,
   "metadata": {},
   "outputs": [
    {
     "name": "stdout",
     "output_type": "stream",
     "text": [
      "Simulation will run from 10:00:02 to 10:02:00.\n",
      "<class 'datetime.time'>\n"
     ]
    }
   ],
   "source": [
    "# Simulation parameters\n",
    "def get_time_input(prompt):\n",
    "    while True:\n",
    "        try:\n",
    "            time_str = input(prompt)\n",
    "            # Validate and convert input to time object\n",
    "            time_obj = datetime.strptime(time_str, '%H:%M:%S').time()\n",
    "            return time_obj\n",
    "        except ValueError:\n",
    "            print(\"Invalid time format. Please enter time in HH:MM:SS format.\")\n",
    "\n",
    "\n",
    "start_time = get_time_input(\"Enter start time (HH:MM:SS): \")\n",
    "end_time = get_time_input(\"Enter end time (HH:MM:SS): \")\n",
    "current_time=start_time\n",
    "print(f\"Simulation will run from {start_time} to {end_time}.\")\n",
    "print(type(current_time))\n",
    "\n",
    "\n"
   ]
  },
  {
   "cell_type": "code",
   "execution_count": 327,
   "metadata": {},
   "outputs": [
    {
     "name": "stdout",
     "output_type": "stream",
     "text": [
      "6\n"
     ]
    }
   ],
   "source": [
    "def find_service_id(calendar):\n",
    "    today = datetime.today().weekday() + 1\n",
    "    for index in calendar.index:\n",
    "        value = calendar.iloc[index, today]\n",
    "        if value == 1:\n",
    "            servid = calendar.iloc[index, 0]\n",
    "            return servid\n",
    "    return None\n",
    "\n",
    "# The service_id of the trip for today          \n",
    "servid = find_service_id(calendar)\n",
    "print(servid)"
   ]
  },
  {
   "cell_type": "code",
   "execution_count": 328,
   "metadata": {},
   "outputs": [],
   "source": [
    "#Initialize the map centered on the city\n",
    "center=(stops['stop_lat'].mean(),stops['stop_lon'].mean())\n",
    "map = Map(basemap=basemaps.OpenStreetMap.Mapnik, center=center, zoom_start=12)"
   ]
  },
  {
   "cell_type": "code",
   "execution_count": 329,
   "metadata": {},
   "outputs": [],
   "source": [
    "# Add stop markers to the map initially\n",
    "def add_stop_markers(stops, map):\n",
    "    for stop in stops.itertuples():\n",
    "        # Create a marker\n",
    "        marker = Marker(location=[stop.stop_lat, stop.stop_lon], draggable=False)\n",
    "        # Create a popup with the stop information\n",
    "        popup_content = HTML()\n",
    "        popup_content.value = f\"Stop: {stop.stop_name}, Stop Number: {stop.stop_id}\"\n",
    "        popup = Popup(\n",
    "            location=[stop.stop_lat, stop.stop_lon],\n",
    "            child=popup_content,\n",
    "            close_button=False,\n",
    "            auto_close=False,\n",
    "            close_on_escape_key=False\n",
    "        )\n",
    "        # Add the popup to the marker\n",
    "        marker.popup = popup\n",
    "\n",
    "        # Add the marker to the map\n",
    "        map.add_layer(marker)\n",
    "    return map\n",
    "map=add_stop_markers(stops,map)"
   ]
  },
  {
   "cell_type": "code",
   "execution_count": 330,
   "metadata": {},
   "outputs": [],
   "source": [
    "def create_lines(shapes, map):\n",
    "    shape_locations = []\n",
    "    for shape in shapes.itertuples():\n",
    "        shape_locations.append([shape.shape_pt_lat, shape.shape_pt_lon])\n",
    "    \n",
    "    if len(shape_locations) > 1:\n",
    "        polyline = Polyline(\n",
    "            locations=shape_locations,\n",
    "            color=\"red\",\n",
    "            fill=False,\n",
    "            weight=2,\n",
    "            opacity=1,\n",
    "            dash_array='5 ,5'\n",
    "        )\n",
    "        map.add_layer(polyline)\n",
    "    \n",
    "    return map\n",
    "map=create_lines(shapes,map)\n"
   ]
  },
  {
   "cell_type": "code",
   "execution_count": 336,
   "metadata": {},
   "outputs": [],
   "source": [
    "def initialize_buses(trips,stop_times,stops,routes):\n",
    "    # Dictionary to store bus markers\n",
    "    merged_df = pd.merge(trips, stop_times, on='trip_id', how='outer')\n",
    "    merged_df2=pd.merge(merged_df,stops, on='stop_id', how='outer')\n",
    "    final_merge=pd.merge(merged_df2,routes, on='route_id', how='outer')\n",
    "\n",
    "    # Initialize buses\n",
    "    buses = [{\n",
    "        'service_id': trip.service_id,\n",
    "        'trip_id': trip.trip_id,\n",
    "        'route_id': trip.route_id,\n",
    "        'current_stop_sequence': trip.stop_sequence,\n",
    "        'stop_time': trip.arrival_time,\n",
    "        'direction_id': trip.direction_id,\n",
    "        'current_stop_id': trip.stop_id,\n",
    "        'current_stop_name': trip.stop_name,\n",
    "        'stop_lat': trip.stop_lat,\n",
    "        'stop_lon': trip.stop_lon,\n",
    "        'route_short_name': trip.route_short_name\n",
    "        \n",
    "    } for trip in final_merge.itertuples()]\n",
    "    return buses\n",
    "\n",
    "buses=initialize_buses(trips,stop_times,stops,routes)\n"
   ]
  },
  {
   "cell_type": "code",
   "execution_count": 335,
   "metadata": {},
   "outputs": [
    {
     "name": "stdout",
     "output_type": "stream",
     "text": [
      "[]\n"
     ]
    }
   ],
   "source": [
    "def filter_buses(buses,servid,current_time):\n",
    "    filtered_buses = []\n",
    "    #desired_time = datetime.strptime('10:00:00', '%H:%M:%S').time() curre\n",
    "    for bus in buses:\n",
    "        bus_service_id = bus['service_id']\n",
    "        bus_stop_time = datetime.strptime(bus['stop_time'], '%H:%M:%S').time()\n",
    "        \n",
    "        if bus_service_id == servid and bus_stop_time == current_time:\n",
    "            filtered_buses.append(bus)\n",
    "            \n",
    "    return filtered_buses\n",
    "\n",
    "filtered_buses=filter_buses(buses,servid,current_time)\n",
    "print(filtered_buses)\n",
    "\n"
   ]
  },
  {
   "cell_type": "code",
   "execution_count": 333,
   "metadata": {},
   "outputs": [],
   "source": [
    "def create_bus_markers(bus):\n",
    "    icon=AwesomeIcon(name='bus', marker_color='red', icon_color='white')\n",
    "    \n",
    "    # Create a marker \n",
    "    marker = Marker(icon=icon, location=[bus['stop_lat'], bus['stop_lon']], draggable=False)\n",
    "\n",
    "    # Create a popup with the stop information\n",
    "    popup_content = HTML()\n",
    "    popup_content.value = f\"Route Name: {bus['route_short_name']},Trip ID: {bus['trip_id']},Stop Name: {bus['current_stop_name']}, Stop Number: {bus['current_stop_id']},Stop Time: {bus['stop_time']}\"\n",
    "    popup = Popup(\n",
    "        location=[bus['stop_lat'],bus['stop_lon']],\n",
    "        child=popup_content,\n",
    "        close_button=False,\n",
    "        auto_close=False,\n",
    "        close_on_escape_key=False\n",
    "    )\n",
    "\n",
    "    # Add the popup to the marker\n",
    "    marker.popup = popup\n",
    "    return marker\n",
    "\n",
    "\n",
    "    \n"
   ]
  },
  {
   "cell_type": "code",
   "execution_count": 334,
   "metadata": {},
   "outputs": [
    {
     "name": "stdout",
     "output_type": "stream",
     "text": [
      "Current time: 10:00:02\n",
      "Current time: 10:00:03\n",
      "Current time: 10:00:04\n",
      "Current time: 10:00:05\n",
      "Current time: 10:00:06\n",
      "Current time: 10:00:07\n",
      "Current time: 10:00:08\n"
     ]
    },
    {
     "ename": "KeyboardInterrupt",
     "evalue": "",
     "output_type": "error",
     "traceback": [
      "\u001b[1;31m---------------------------------------------------------------------------\u001b[0m",
      "\u001b[1;31mKeyboardInterrupt\u001b[0m                         Traceback (most recent call last)",
      "Cell \u001b[1;32mIn[334], line 41\u001b[0m\n\u001b[0;32m     38\u001b[0m         \u001b[38;5;66;03m# Sleep for 1 second to simulate time passing\u001b[39;00m\n\u001b[0;32m     39\u001b[0m         time\u001b[38;5;241m.\u001b[39msleep(\u001b[38;5;241m1\u001b[39m)\n\u001b[1;32m---> 41\u001b[0m newbus\u001b[38;5;241m=\u001b[39mupdate_buses(buses,servid, start_time, end_time, \u001b[38;5;28mmap\u001b[39m)\n\u001b[0;32m     42\u001b[0m \u001b[38;5;28mprint\u001b[39m(newbus)\n",
      "Cell \u001b[1;32mIn[334], line 39\u001b[0m, in \u001b[0;36mupdate_buses\u001b[1;34m(buses, servid, start_time, end_time, map)\u001b[0m\n\u001b[0;32m     37\u001b[0m current_time \u001b[38;5;241m=\u001b[39m (datetime\u001b[38;5;241m.\u001b[39mcombine(datetime\u001b[38;5;241m.\u001b[39mtoday(), current_time) \u001b[38;5;241m+\u001b[39m timedelta(seconds\u001b[38;5;241m=\u001b[39m\u001b[38;5;241m1\u001b[39m))\u001b[38;5;241m.\u001b[39mtime()\n\u001b[0;32m     38\u001b[0m \u001b[38;5;66;03m# Sleep for 1 second to simulate time passing\u001b[39;00m\n\u001b[1;32m---> 39\u001b[0m time\u001b[38;5;241m.\u001b[39msleep(\u001b[38;5;241m1\u001b[39m)\n",
      "\u001b[1;31mKeyboardInterrupt\u001b[0m: "
     ]
    }
   ],
   "source": [
    "\n",
    "def update_buses(buses, servid, start_time, end_time, map):\n",
    "    current_time = start_time\n",
    "    existing_markers = {}\n",
    "    previous_markers={}\n",
    "\n",
    "\n",
    "    while current_time <= end_time:\n",
    "        print(f\"Current time: {current_time}\")\n",
    "        # Filter buses and get new marker locations\n",
    "        filtered_buses = filter_buses(buses, servid, current_time)\n",
    "        new_markers = {(bus['stop_lat'], bus['stop_lon']): bus for bus in filtered_buses}\n",
    "\n",
    "         # Remove markers that are no longer valid\n",
    "        for marker_key in list(existing_markers.keys()):\n",
    "            if marker_key not in new_markers:\n",
    "                map.remove_layer(existing_markers[marker_key])\n",
    "                del existing_markers[marker_key]\n",
    "\n",
    "        # Add new markers or update existing ones\n",
    "        for marker_key, bus in new_markers.items():\n",
    "            if marker_key not in existing_markers:\n",
    "                # Add new marker\n",
    "                marker = create_bus_markers(bus)\n",
    "                map.add_layer(marker)\n",
    "                existing_markers[marker_key] = marker\n",
    "            else:\n",
    "                # Update existing marker if location has changed\n",
    "                old_marker = existing_markers[marker_key]\n",
    "                new_location = [bus['stop_lat'], bus['stop_lon']]\n",
    "                if old_marker.location != new_location:\n",
    "                    map.remove_layer(old_marker)\n",
    "                    new_marker = create_bus_markers(bus)\n",
    "                    map.add_layer(new_marker)\n",
    "                    existing_markers[marker_key] = new_marker\n",
    "\n",
    "        # Increment time by 1 second\n",
    "        current_time = (datetime.combine(datetime.today(), current_time) + timedelta(seconds=1)).time()\n",
    "        # Sleep for 1 second to simulate time passing\n",
    "        time.sleep(1)\n",
    "\n",
    "newbus=update_buses(buses,servid, start_time, end_time, map)\n",
    "print(newbus)"
   ]
  },
  {
   "cell_type": "code",
   "execution_count": null,
   "metadata": {},
   "outputs": [],
   "source": [
    "'''# Simulation loop\n",
    "while current_time <= end_time:\n",
    "    filtered_buses = filter_buses(buses)  # Ensure filtered_buses is updated\n",
    "    updated_buses = update_buses(filtered_buses, stop_times, current_time)\n",
    "    \n",
    "    # Clear previous bus markers and add updated ones\n",
    "    map.layers = [layer for layer in map.layers if not isinstance(layer, Marker)]  # Remove old markers\n",
    "    create_bus_markers(updated_buses, map)\n",
    "    \n",
    "    clear_output(wait=True)\n",
    "    display(map)  # Use display(map) to show updated map\n",
    "    \n",
    "    # Update the current time\n",
    "    current_time = (datetime.combine(datetime.today(), current_time) + time_step).time()\n",
    "    print(f\"Current time: {current_time.strftime('%H:%M:%S')}\")\n",
    "    \n",
    "    # Optional: sleep for visual update\n",
    "    # time.sleep(1)\n",
    "'''"
   ]
  }
 ],
 "metadata": {
  "kernelspec": {
   "display_name": "base",
   "language": "python",
   "name": "python3"
  },
  "language_info": {
   "codemirror_mode": {
    "name": "ipython",
    "version": 3
   },
   "file_extension": ".py",
   "mimetype": "text/x-python",
   "name": "python",
   "nbconvert_exporter": "python",
   "pygments_lexer": "ipython3",
   "version": "3.11.5"
  }
 },
 "nbformat": 4,
 "nbformat_minor": 2
}
